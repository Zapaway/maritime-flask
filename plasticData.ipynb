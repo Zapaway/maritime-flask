{
 "cells": [
  {
   "cell_type": "code",
   "execution_count": 1,
   "metadata": {},
   "outputs": [],
   "source": [
    "# Importing packages for ML Training\n",
    "import numpy as np\n",
    "import pandas as pd\n",
    "import matplotlib.pyplot as plt\n",
    "import statsmodels as sm\n",
    "from sklearn.ensemble import RandomForestRegressor\n",
    "from sklearn.neural_network import MLPRegressor\n",
    "from sklearn.linear_model import SGDRegressor\n",
    "from sklearn.preprocessing import StandardScaler, LabelEncoder\n",
    "from sklearn.model_selection import train_test_split\n",
    "%matplotlib inline"
   ]
  },
  {
   "cell_type": "code",
   "execution_count": 17,
   "metadata": {},
   "outputs": [],
   "source": [
    "encodings = []\n",
    "na = pd.read_csv('../Datasets/world_oceans.csv', encoding= \"latin-1\")"
   ]
  },
  {
   "cell_type": "code",
   "execution_count": 3,
   "metadata": {},
   "outputs": [
    {
     "data": {
      "text/html": [
       "<div>\n",
       "<style scoped>\n",
       "    .dataframe tbody tr th:only-of-type {\n",
       "        vertical-align: middle;\n",
       "    }\n",
       "\n",
       "    .dataframe tbody tr th {\n",
       "        vertical-align: top;\n",
       "    }\n",
       "\n",
       "    .dataframe thead th {\n",
       "        text-align: right;\n",
       "    }\n",
       "</style>\n",
       "<table border=\"1\" class=\"dataframe\">\n",
       "  <thead>\n",
       "    <tr style=\"text-align: right;\">\n",
       "      <th></th>\n",
       "      <th>Unnamed: 0</th>\n",
       "      <th>Oceans</th>\n",
       "      <th>Microplastics Measurement (density)</th>\n",
       "      <th>Unit</th>\n",
       "      <th>Concentration Class</th>\n",
       "      <th>Latitude</th>\n",
       "      <th>Longitude</th>\n",
       "      <th>Date</th>\n",
       "      <th>Water Sample Depth (m)</th>\n",
       "    </tr>\n",
       "  </thead>\n",
       "  <tbody>\n",
       "    <tr>\n",
       "      <th>0</th>\n",
       "      <td>0</td>\n",
       "      <td>Arctic Ocean</td>\n",
       "      <td>0.003</td>\n",
       "      <td>pieces/m3</td>\n",
       "      <td>Low</td>\n",
       "      <td>77.3834</td>\n",
       "      <td>13.8334</td>\n",
       "      <td>16583.0</td>\n",
       "      <td>0.45</td>\n",
       "    </tr>\n",
       "    <tr>\n",
       "      <th>1</th>\n",
       "      <td>1</td>\n",
       "      <td>Arctic Ocean</td>\n",
       "      <td>0.009</td>\n",
       "      <td>pieces/m3</td>\n",
       "      <td>Medium</td>\n",
       "      <td>69.0302</td>\n",
       "      <td>-16.6200</td>\n",
       "      <td>16598.0</td>\n",
       "      <td>0.45</td>\n",
       "    </tr>\n",
       "    <tr>\n",
       "      <th>2</th>\n",
       "      <td>2</td>\n",
       "      <td>Arctic Ocean</td>\n",
       "      <td>0.005</td>\n",
       "      <td>pieces/m3</td>\n",
       "      <td>Medium</td>\n",
       "      <td>65.6830</td>\n",
       "      <td>-18.0861</td>\n",
       "      <td>16605.0</td>\n",
       "      <td>0.45</td>\n",
       "    </tr>\n",
       "    <tr>\n",
       "      <th>3</th>\n",
       "      <td>3</td>\n",
       "      <td>Arctic Ocean</td>\n",
       "      <td>0.007</td>\n",
       "      <td>pieces/m3</td>\n",
       "      <td>Medium</td>\n",
       "      <td>65.7056</td>\n",
       "      <td>-21.6652</td>\n",
       "      <td>16605.0</td>\n",
       "      <td>0.45</td>\n",
       "    </tr>\n",
       "    <tr>\n",
       "      <th>4</th>\n",
       "      <td>4</td>\n",
       "      <td>Arctic Ocean</td>\n",
       "      <td>0.008</td>\n",
       "      <td>pieces/m3</td>\n",
       "      <td>Medium</td>\n",
       "      <td>66.4346</td>\n",
       "      <td>-163.2724</td>\n",
       "      <td>16612.0</td>\n",
       "      <td>0.45</td>\n",
       "    </tr>\n",
       "  </tbody>\n",
       "</table>\n",
       "</div>"
      ],
      "text/plain": [
       "   Unnamed: 0        Oceans  Microplastics Measurement (density)       Unit  \\\n",
       "0           0  Arctic Ocean                                0.003  pieces/m3   \n",
       "1           1  Arctic Ocean                                0.009  pieces/m3   \n",
       "2           2  Arctic Ocean                                0.005  pieces/m3   \n",
       "3           3  Arctic Ocean                                0.007  pieces/m3   \n",
       "4           4  Arctic Ocean                                0.008  pieces/m3   \n",
       "\n",
       "  Concentration Class  Latitude  Longitude     Date  Water Sample Depth (m)  \n",
       "0                 Low   77.3834    13.8334  16583.0                    0.45  \n",
       "1              Medium   69.0302   -16.6200  16598.0                    0.45  \n",
       "2              Medium   65.6830   -18.0861  16605.0                    0.45  \n",
       "3              Medium   65.7056   -21.6652  16605.0                    0.45  \n",
       "4              Medium   66.4346  -163.2724  16612.0                    0.45  "
      ]
     },
     "execution_count": 3,
     "metadata": {},
     "output_type": "execute_result"
    }
   ],
   "source": [
    "na.head()"
   ]
  },
  {
   "cell_type": "code",
   "execution_count": 8,
   "metadata": {},
   "outputs": [
    {
     "name": "stdout",
     "output_type": "stream",
     "text": [
      "<class 'pandas.core.frame.DataFrame'>\n",
      "RangeIndex: 9980 entries, 0 to 9979\n",
      "Data columns (total 9 columns):\n",
      " #   Column                               Non-Null Count  Dtype  \n",
      "---  ------                               --------------  -----  \n",
      " 0   Unnamed: 0                           9980 non-null   int64  \n",
      " 1   Oceans                               9980 non-null   object \n",
      " 2   Microplastics Measurement (density)  9980 non-null   float64\n",
      " 3   Unit                                 9980 non-null   object \n",
      " 4   Concentration Class                  9980 non-null   object \n",
      " 5   Latitude                             9980 non-null   float64\n",
      " 6   Longitude                            9980 non-null   float64\n",
      " 7   Date                                 9980 non-null   float64\n",
      " 8   Water Sample Depth (m)               9980 non-null   float64\n",
      "dtypes: float64(5), int64(1), object(3)\n",
      "memory usage: 701.8+ KB\n"
     ]
    }
   ],
   "source": [
    "na.info()"
   ]
  },
  {
   "cell_type": "code",
   "execution_count": 9,
   "metadata": {},
   "outputs": [],
   "source": [
    "#Preprocessing\n",
    "X = na.iloc[:,1:2].values  # features\n",
    "y = na.iloc[:,2].values  # Target variable"
   ]
  },
  {
   "cell_type": "code",
   "execution_count": 18,
   "metadata": {},
   "outputs": [
    {
     "data": {
      "text/plain": [
       "Index(['Unnamed: 0', 'Oceans', 'Microplastics Measurement (density)', 'Unit',\n",
       "       'Concentration Class', 'Latitude', 'Longitude', 'Date',\n",
       "       'Water Sample Depth (m)'],\n",
       "      dtype='object')"
      ]
     },
     "execution_count": 18,
     "metadata": {},
     "output_type": "execute_result"
    }
   ],
   "source": [
    "na.columns"
   ]
  },
  {
   "cell_type": "code",
   "execution_count": 56,
   "metadata": {},
   "outputs": [],
   "source": [
    "X = na[['Date', 'Latitude', 'Longitude']]\n",
    "y = na['Microplastics Measurement (density)']"
   ]
  },
  {
   "cell_type": "code",
   "execution_count": 57,
   "metadata": {},
   "outputs": [],
   "source": [
    "from sklearn.model_selection import train_test_split"
   ]
  },
  {
   "cell_type": "code",
   "execution_count": 58,
   "metadata": {},
   "outputs": [
    {
     "data": {
      "text/plain": [
       "<function sklearn.model_selection._split.train_test_split(*arrays, test_size=None, train_size=None, random_state=None, shuffle=True, stratify=None)>"
      ]
     },
     "execution_count": 58,
     "metadata": {},
     "output_type": "execute_result"
    }
   ],
   "source": [
    "train_test_split"
   ]
  },
  {
   "cell_type": "code",
   "execution_count": 59,
   "metadata": {},
   "outputs": [],
   "source": [
    "X_train, X_test, y_train, y_test = train_test_split(X, y, test_size=0.4, random_state=101)"
   ]
  },
  {
   "cell_type": "code",
   "execution_count": 60,
   "metadata": {},
   "outputs": [
    {
     "data": {
      "text/html": [
       "<div>\n",
       "<style scoped>\n",
       "    .dataframe tbody tr th:only-of-type {\n",
       "        vertical-align: middle;\n",
       "    }\n",
       "\n",
       "    .dataframe tbody tr th {\n",
       "        vertical-align: top;\n",
       "    }\n",
       "\n",
       "    .dataframe thead th {\n",
       "        text-align: right;\n",
       "    }\n",
       "</style>\n",
       "<table border=\"1\" class=\"dataframe\">\n",
       "  <thead>\n",
       "    <tr style=\"text-align: right;\">\n",
       "      <th></th>\n",
       "      <th>Date</th>\n",
       "      <th>Latitude</th>\n",
       "      <th>Longitude</th>\n",
       "    </tr>\n",
       "  </thead>\n",
       "  <tbody>\n",
       "    <tr>\n",
       "      <th>8335</th>\n",
       "      <td>16107.0</td>\n",
       "      <td>34.0000</td>\n",
       "      <td>138.5050</td>\n",
       "    </tr>\n",
       "    <tr>\n",
       "      <th>1117</th>\n",
       "      <td>10160.0</td>\n",
       "      <td>32.3500</td>\n",
       "      <td>-64.5000</td>\n",
       "    </tr>\n",
       "    <tr>\n",
       "      <th>427</th>\n",
       "      <td>8170.0</td>\n",
       "      <td>39.7600</td>\n",
       "      <td>-65.0000</td>\n",
       "    </tr>\n",
       "    <tr>\n",
       "      <th>1844</th>\n",
       "      <td>11834.0</td>\n",
       "      <td>33.8100</td>\n",
       "      <td>-64.6200</td>\n",
       "    </tr>\n",
       "    <tr>\n",
       "      <th>4683</th>\n",
       "      <td>18883.0</td>\n",
       "      <td>39.2542</td>\n",
       "      <td>8.2240</td>\n",
       "    </tr>\n",
       "    <tr>\n",
       "      <th>...</th>\n",
       "      <td>...</td>\n",
       "      <td>...</td>\n",
       "      <td>...</td>\n",
       "    </tr>\n",
       "    <tr>\n",
       "      <th>599</th>\n",
       "      <td>8702.0</td>\n",
       "      <td>22.2800</td>\n",
       "      <td>-58.0000</td>\n",
       "    </tr>\n",
       "    <tr>\n",
       "      <th>5695</th>\n",
       "      <td>12417.0</td>\n",
       "      <td>31.7200</td>\n",
       "      <td>-144.7700</td>\n",
       "    </tr>\n",
       "    <tr>\n",
       "      <th>8006</th>\n",
       "      <td>15497.0</td>\n",
       "      <td>-19.9931</td>\n",
       "      <td>174.9779</td>\n",
       "    </tr>\n",
       "    <tr>\n",
       "      <th>1361</th>\n",
       "      <td>10702.0</td>\n",
       "      <td>33.4500</td>\n",
       "      <td>-65.6600</td>\n",
       "    </tr>\n",
       "    <tr>\n",
       "      <th>1547</th>\n",
       "      <td>11113.0</td>\n",
       "      <td>31.5800</td>\n",
       "      <td>-66.3100</td>\n",
       "    </tr>\n",
       "  </tbody>\n",
       "</table>\n",
       "<p>5988 rows × 3 columns</p>\n",
       "</div>"
      ],
      "text/plain": [
       "         Date  Latitude  Longitude\n",
       "8335  16107.0   34.0000   138.5050\n",
       "1117  10160.0   32.3500   -64.5000\n",
       "427    8170.0   39.7600   -65.0000\n",
       "1844  11834.0   33.8100   -64.6200\n",
       "4683  18883.0   39.2542     8.2240\n",
       "...       ...       ...        ...\n",
       "599    8702.0   22.2800   -58.0000\n",
       "5695  12417.0   31.7200  -144.7700\n",
       "8006  15497.0  -19.9931   174.9779\n",
       "1361  10702.0   33.4500   -65.6600\n",
       "1547  11113.0   31.5800   -66.3100\n",
       "\n",
       "[5988 rows x 3 columns]"
      ]
     },
     "execution_count": 60,
     "metadata": {},
     "output_type": "execute_result"
    }
   ],
   "source": [
    "X_train"
   ]
  },
  {
   "cell_type": "code",
   "execution_count": 61,
   "metadata": {},
   "outputs": [],
   "source": [
    "from sklearn.linear_model import LinearRegression"
   ]
  },
  {
   "cell_type": "code",
   "execution_count": 62,
   "metadata": {},
   "outputs": [],
   "source": [
    "lm = LinearRegression()"
   ]
  },
  {
   "cell_type": "code",
   "execution_count": 63,
   "metadata": {},
   "outputs": [
    {
     "data": {
      "text/plain": [
       "array([ 0.00883583, -0.21802934,  0.40668903])"
      ]
     },
     "execution_count": 63,
     "metadata": {},
     "output_type": "execute_result"
    }
   ],
   "source": [
    "lm.fit(X_train, y_train)\n",
    "lm.coef_"
   ]
  },
  {
   "cell_type": "code",
   "execution_count": 64,
   "metadata": {},
   "outputs": [],
   "source": [
    "coeff_na = pd.DataFrame(lm.coef_,X.columns, columns = ['Coefficient'])"
   ]
  },
  {
   "cell_type": "code",
   "execution_count": 65,
   "metadata": {},
   "outputs": [
    {
     "data": {
      "text/html": [
       "<div>\n",
       "<style scoped>\n",
       "    .dataframe tbody tr th:only-of-type {\n",
       "        vertical-align: middle;\n",
       "    }\n",
       "\n",
       "    .dataframe tbody tr th {\n",
       "        vertical-align: top;\n",
       "    }\n",
       "\n",
       "    .dataframe thead th {\n",
       "        text-align: right;\n",
       "    }\n",
       "</style>\n",
       "<table border=\"1\" class=\"dataframe\">\n",
       "  <thead>\n",
       "    <tr style=\"text-align: right;\">\n",
       "      <th></th>\n",
       "      <th>Coefficient</th>\n",
       "    </tr>\n",
       "  </thead>\n",
       "  <tbody>\n",
       "    <tr>\n",
       "      <th>Date</th>\n",
       "      <td>0.008836</td>\n",
       "    </tr>\n",
       "    <tr>\n",
       "      <th>Latitude</th>\n",
       "      <td>-0.218029</td>\n",
       "    </tr>\n",
       "    <tr>\n",
       "      <th>Longitude</th>\n",
       "      <td>0.406689</td>\n",
       "    </tr>\n",
       "  </tbody>\n",
       "</table>\n",
       "</div>"
      ],
      "text/plain": [
       "           Coefficient\n",
       "Date          0.008836\n",
       "Latitude     -0.218029\n",
       "Longitude     0.406689"
      ]
     },
     "execution_count": 65,
     "metadata": {},
     "output_type": "execute_result"
    }
   ],
   "source": [
    "coeff_na"
   ]
  },
  {
   "cell_type": "code",
   "execution_count": 66,
   "metadata": {},
   "outputs": [],
   "source": [
    "predictions = lm.predict(X_test)"
   ]
  },
  {
   "cell_type": "code",
   "execution_count": 67,
   "metadata": {},
   "outputs": [
    {
     "data": {
      "text/plain": [
       "<matplotlib.collections.PathCollection at 0x17ef5135f50>"
      ]
     },
     "execution_count": 67,
     "metadata": {},
     "output_type": "execute_result"
    },
    {
     "data": {
      "image/png": "[encoded data removed]",
      "text/plain": [
       "<Figure size 640x480 with 1 Axes>"
      ]
     },
     "metadata": {},
     "output_type": "display_data"
    }
   ],
   "source": [
    "plt.scatter(y_test, predictions)"
   ]
  },
  {
   "cell_type": "code",
   "execution_count": 68,
   "metadata": {},
   "outputs": [
    {
     "data": {
      "image/png": "[encoded data removed]",
      "text/plain": [
       "<Figure size 640x480 with 1 Axes>"
      ]
     },
     "metadata": {},
     "output_type": "display_data"
    }
   ],
   "source": [
    "oceans_data = na.filter([ 'Oceans', 'Date', 'Microplastics Measurement (density)'])\n",
    "oceans_data = oceans_data.groupby('Oceans')\n",
    "oceans = {}\n",
    "\n",
    "for ocean, dates in oceans_data:\n",
    "  dates = dates.drop('Oceans', axis=1)\n",
    "  dates = dates.groupby('Date')['Microplastics Measurement (density)'].mean().reset_index()\n",
    "  oceans[ocean] = dates[dates['Microplastics Measurement (density)'] <= 10]\n",
    "  oceans[ocean] = dates[dates['Date'] < 15000]\n",
    "  plt.scatter(oceans[ocean]['Date'], oceans[ocean]['Microplastics Measurement (density)'])"
   ]
  },
  {
   "cell_type": "code",
   "execution_count": null,
   "metadata": {},
   "outputs": [],
   "source": []
  }
 ],
 "metadata": {
  "kernelspec": {
   "display_name": "Python 3",
   "language": "python",
   "name": "python3"
  },
  "language_info": {
   "codemirror_mode": {
    "name": "ipython",
    "version": 3
   },
   "file_extension": ".py",
   "mimetype": "text/x-python",
   "name": "python",
   "nbconvert_exporter": "python",
   "pygments_lexer": "ipython3",
   "version": "3.11.8"
  }
 },
 "nbformat": 4,
 "nbformat_minor": 2
}
